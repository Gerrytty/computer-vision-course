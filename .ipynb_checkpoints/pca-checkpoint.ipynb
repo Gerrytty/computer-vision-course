{
 "cells": [
  {
   "cell_type": "code",
   "execution_count": 80,
   "metadata": {
    "id": "oUARt3Ljrrg2"
   },
   "outputs": [],
   "source": [
    "import pandas as pd\n",
    "from sklearn.decomposition import PCA\n",
    "from sklearn import preprocessing\n",
    "import matplotlib.pyplot as plt\n",
    "%matplotlib inline\n",
    "import cv2\n",
    "import numpy as np\n",
    "from google.colab.patches import cv2_imshow"
   ]
  },
  {
   "cell_type": "code",
   "execution_count": 93,
   "metadata": {
    "id": "9crp2p2Pr6Q5"
   },
   "outputs": [],
   "source": [
    "data = pd.read_csv(\"sample_data/14_25.csv\", header=None)"
   ]
  },
  {
   "cell_type": "code",
   "execution_count": 94,
   "metadata": {
    "colab": {
     "base_uri": "https://localhost:8080/",
     "height": 206
    },
    "id": "KMRWgZ93sLQy",
    "outputId": "c6aa1d02-c275-4492-8bc3-35ffd224bce2"
   },
   "outputs": [
    {
     "data": {
      "text/html": [
       "\n",
       "  <div id=\"df-375932f1-a951-48fc-b443-da1598ed4349\">\n",
       "    <div class=\"colab-df-container\">\n",
       "      <div>\n",
       "<style scoped>\n",
       "    .dataframe tbody tr th:only-of-type {\n",
       "        vertical-align: middle;\n",
       "    }\n",
       "\n",
       "    .dataframe tbody tr th {\n",
       "        vertical-align: top;\n",
       "    }\n",
       "\n",
       "    .dataframe thead th {\n",
       "        text-align: right;\n",
       "    }\n",
       "</style>\n",
       "<table border=\"1\" class=\"dataframe\">\n",
       "  <thead>\n",
       "    <tr style=\"text-align: right;\">\n",
       "      <th></th>\n",
       "      <th>0</th>\n",
       "      <th>1</th>\n",
       "      <th>2</th>\n",
       "      <th>3</th>\n",
       "      <th>4</th>\n",
       "      <th>5</th>\n",
       "      <th>6</th>\n",
       "      <th>7</th>\n",
       "      <th>8</th>\n",
       "      <th>9</th>\n",
       "    </tr>\n",
       "  </thead>\n",
       "  <tbody>\n",
       "    <tr>\n",
       "      <th>0</th>\n",
       "      <td>-7.799165</td>\n",
       "      <td>11.831122</td>\n",
       "      <td>-4.256064</td>\n",
       "      <td>-24.316662</td>\n",
       "      <td>-8.368436</td>\n",
       "      <td>25.795544</td>\n",
       "      <td>-9.925222</td>\n",
       "      <td>-1.714580</td>\n",
       "      <td>10.407809</td>\n",
       "      <td>21.441056</td>\n",
       "    </tr>\n",
       "    <tr>\n",
       "      <th>1</th>\n",
       "      <td>17.795552</td>\n",
       "      <td>-17.489626</td>\n",
       "      <td>12.875613</td>\n",
       "      <td>-22.412635</td>\n",
       "      <td>11.840251</td>\n",
       "      <td>12.960748</td>\n",
       "      <td>-4.685103</td>\n",
       "      <td>24.731564</td>\n",
       "      <td>-0.092238</td>\n",
       "      <td>-16.287798</td>\n",
       "    </tr>\n",
       "    <tr>\n",
       "      <th>2</th>\n",
       "      <td>16.510434</td>\n",
       "      <td>-21.114121</td>\n",
       "      <td>-7.882831</td>\n",
       "      <td>-0.763302</td>\n",
       "      <td>8.049924</td>\n",
       "      <td>-12.060380</td>\n",
       "      <td>8.276369</td>\n",
       "      <td>4.991549</td>\n",
       "      <td>-18.357320</td>\n",
       "      <td>-8.517860</td>\n",
       "    </tr>\n",
       "    <tr>\n",
       "      <th>3</th>\n",
       "      <td>12.045791</td>\n",
       "      <td>-9.548955</td>\n",
       "      <td>1.296076</td>\n",
       "      <td>-22.716483</td>\n",
       "      <td>8.323597</td>\n",
       "      <td>-13.074138</td>\n",
       "      <td>21.569312</td>\n",
       "      <td>-7.669294</td>\n",
       "      <td>11.825326</td>\n",
       "      <td>13.761355</td>\n",
       "    </tr>\n",
       "    <tr>\n",
       "      <th>4</th>\n",
       "      <td>14.202325</td>\n",
       "      <td>-8.394040</td>\n",
       "      <td>2.372177</td>\n",
       "      <td>-25.584078</td>\n",
       "      <td>7.590850</td>\n",
       "      <td>-15.094525</td>\n",
       "      <td>23.596017</td>\n",
       "      <td>-9.246835</td>\n",
       "      <td>12.222140</td>\n",
       "      <td>14.994944</td>\n",
       "    </tr>\n",
       "  </tbody>\n",
       "</table>\n",
       "</div>\n",
       "      <button class=\"colab-df-convert\" onclick=\"convertToInteractive('df-375932f1-a951-48fc-b443-da1598ed4349')\"\n",
       "              title=\"Convert this dataframe to an interactive table.\"\n",
       "              style=\"display:none;\">\n",
       "        \n",
       "  <svg xmlns=\"http://www.w3.org/2000/svg\" height=\"24px\"viewBox=\"0 0 24 24\"\n",
       "       width=\"24px\">\n",
       "    <path d=\"M0 0h24v24H0V0z\" fill=\"none\"/>\n",
       "    <path d=\"M18.56 5.44l.94 2.06.94-2.06 2.06-.94-2.06-.94-.94-2.06-.94 2.06-2.06.94zm-11 1L8.5 8.5l.94-2.06 2.06-.94-2.06-.94L8.5 2.5l-.94 2.06-2.06.94zm10 10l.94 2.06.94-2.06 2.06-.94-2.06-.94-.94-2.06-.94 2.06-2.06.94z\"/><path d=\"M17.41 7.96l-1.37-1.37c-.4-.4-.92-.59-1.43-.59-.52 0-1.04.2-1.43.59L10.3 9.45l-7.72 7.72c-.78.78-.78 2.05 0 2.83L4 21.41c.39.39.9.59 1.41.59.51 0 1.02-.2 1.41-.59l7.78-7.78 2.81-2.81c.8-.78.8-2.07 0-2.86zM5.41 20L4 18.59l7.72-7.72 1.47 1.35L5.41 20z\"/>\n",
       "  </svg>\n",
       "      </button>\n",
       "      \n",
       "  <style>\n",
       "    .colab-df-container {\n",
       "      display:flex;\n",
       "      flex-wrap:wrap;\n",
       "      gap: 12px;\n",
       "    }\n",
       "\n",
       "    .colab-df-convert {\n",
       "      background-color: #E8F0FE;\n",
       "      border: none;\n",
       "      border-radius: 50%;\n",
       "      cursor: pointer;\n",
       "      display: none;\n",
       "      fill: #1967D2;\n",
       "      height: 32px;\n",
       "      padding: 0 0 0 0;\n",
       "      width: 32px;\n",
       "    }\n",
       "\n",
       "    .colab-df-convert:hover {\n",
       "      background-color: #E2EBFA;\n",
       "      box-shadow: 0px 1px 2px rgba(60, 64, 67, 0.3), 0px 1px 3px 1px rgba(60, 64, 67, 0.15);\n",
       "      fill: #174EA6;\n",
       "    }\n",
       "\n",
       "    [theme=dark] .colab-df-convert {\n",
       "      background-color: #3B4455;\n",
       "      fill: #D2E3FC;\n",
       "    }\n",
       "\n",
       "    [theme=dark] .colab-df-convert:hover {\n",
       "      background-color: #434B5C;\n",
       "      box-shadow: 0px 1px 3px 1px rgba(0, 0, 0, 0.15);\n",
       "      filter: drop-shadow(0px 1px 2px rgba(0, 0, 0, 0.3));\n",
       "      fill: #FFFFFF;\n",
       "    }\n",
       "  </style>\n",
       "\n",
       "      <script>\n",
       "        const buttonEl =\n",
       "          document.querySelector('#df-375932f1-a951-48fc-b443-da1598ed4349 button.colab-df-convert');\n",
       "        buttonEl.style.display =\n",
       "          google.colab.kernel.accessAllowed ? 'block' : 'none';\n",
       "\n",
       "        async function convertToInteractive(key) {\n",
       "          const element = document.querySelector('#df-375932f1-a951-48fc-b443-da1598ed4349');\n",
       "          const dataTable =\n",
       "            await google.colab.kernel.invokeFunction('convertToInteractive',\n",
       "                                                     [key], {});\n",
       "          if (!dataTable) return;\n",
       "\n",
       "          const docLinkHtml = 'Like what you see? Visit the ' +\n",
       "            '<a target=\"_blank\" href=https://colab.research.google.com/notebooks/data_table.ipynb>data table notebook</a>'\n",
       "            + ' to learn more about interactive tables.';\n",
       "          element.innerHTML = '';\n",
       "          dataTable['output_type'] = 'display_data';\n",
       "          await google.colab.output.renderOutput(dataTable, element);\n",
       "          const docLink = document.createElement('div');\n",
       "          docLink.innerHTML = docLinkHtml;\n",
       "          element.appendChild(docLink);\n",
       "        }\n",
       "      </script>\n",
       "    </div>\n",
       "  </div>\n",
       "  "
      ],
      "text/plain": [
       "           0          1          2          3          4          5  \\\n",
       "0  -7.799165  11.831122  -4.256064 -24.316662  -8.368436  25.795544   \n",
       "1  17.795552 -17.489626  12.875613 -22.412635  11.840251  12.960748   \n",
       "2  16.510434 -21.114121  -7.882831  -0.763302   8.049924 -12.060380   \n",
       "3  12.045791  -9.548955   1.296076 -22.716483   8.323597 -13.074138   \n",
       "4  14.202325  -8.394040   2.372177 -25.584078   7.590850 -15.094525   \n",
       "\n",
       "           6          7          8          9  \n",
       "0  -9.925222  -1.714580  10.407809  21.441056  \n",
       "1  -4.685103  24.731564  -0.092238 -16.287798  \n",
       "2   8.276369   4.991549 -18.357320  -8.517860  \n",
       "3  21.569312  -7.669294  11.825326  13.761355  \n",
       "4  23.596017  -9.246835  12.222140  14.994944  "
      ]
     },
     "execution_count": 94,
     "metadata": {},
     "output_type": "execute_result"
    }
   ],
   "source": [
    "data.head()"
   ]
  },
  {
   "cell_type": "code",
   "execution_count": 105,
   "metadata": {
    "id": "_myxCcilsRze"
   },
   "outputs": [],
   "source": [
    "pca = PCA(svd_solver='full', n_components=2)"
   ]
  },
  {
   "cell_type": "code",
   "execution_count": 33,
   "metadata": {
    "id": "evViKWBms62-"
   },
   "outputs": [],
   "source": [
    "# normalization\n",
    "# for i in range(10):\n",
    "#   data[i] = preprocessing.normalize([data[i]])[0]"
   ]
  },
  {
   "cell_type": "code",
   "execution_count": 96,
   "metadata": {
    "colab": {
     "base_uri": "https://localhost:8080/",
     "height": 206
    },
    "id": "H-7bRlm5uGV1",
    "outputId": "8590873d-a75a-493f-ac69-2faeb99235b8"
   },
   "outputs": [
    {
     "data": {
      "text/html": [
       "\n",
       "  <div id=\"df-72880222-d7d2-48b9-a3db-6994933e2743\">\n",
       "    <div class=\"colab-df-container\">\n",
       "      <div>\n",
       "<style scoped>\n",
       "    .dataframe tbody tr th:only-of-type {\n",
       "        vertical-align: middle;\n",
       "    }\n",
       "\n",
       "    .dataframe tbody tr th {\n",
       "        vertical-align: top;\n",
       "    }\n",
       "\n",
       "    .dataframe thead th {\n",
       "        text-align: right;\n",
       "    }\n",
       "</style>\n",
       "<table border=\"1\" class=\"dataframe\">\n",
       "  <thead>\n",
       "    <tr style=\"text-align: right;\">\n",
       "      <th></th>\n",
       "      <th>0</th>\n",
       "      <th>1</th>\n",
       "      <th>2</th>\n",
       "      <th>3</th>\n",
       "      <th>4</th>\n",
       "      <th>5</th>\n",
       "      <th>6</th>\n",
       "      <th>7</th>\n",
       "      <th>8</th>\n",
       "      <th>9</th>\n",
       "    </tr>\n",
       "  </thead>\n",
       "  <tbody>\n",
       "    <tr>\n",
       "      <th>0</th>\n",
       "      <td>-7.799165</td>\n",
       "      <td>11.831122</td>\n",
       "      <td>-4.256064</td>\n",
       "      <td>-24.316662</td>\n",
       "      <td>-8.368436</td>\n",
       "      <td>25.795544</td>\n",
       "      <td>-9.925222</td>\n",
       "      <td>-1.714580</td>\n",
       "      <td>10.407809</td>\n",
       "      <td>21.441056</td>\n",
       "    </tr>\n",
       "    <tr>\n",
       "      <th>1</th>\n",
       "      <td>17.795552</td>\n",
       "      <td>-17.489626</td>\n",
       "      <td>12.875613</td>\n",
       "      <td>-22.412635</td>\n",
       "      <td>11.840251</td>\n",
       "      <td>12.960748</td>\n",
       "      <td>-4.685103</td>\n",
       "      <td>24.731564</td>\n",
       "      <td>-0.092238</td>\n",
       "      <td>-16.287798</td>\n",
       "    </tr>\n",
       "    <tr>\n",
       "      <th>2</th>\n",
       "      <td>16.510434</td>\n",
       "      <td>-21.114121</td>\n",
       "      <td>-7.882831</td>\n",
       "      <td>-0.763302</td>\n",
       "      <td>8.049924</td>\n",
       "      <td>-12.060380</td>\n",
       "      <td>8.276369</td>\n",
       "      <td>4.991549</td>\n",
       "      <td>-18.357320</td>\n",
       "      <td>-8.517860</td>\n",
       "    </tr>\n",
       "    <tr>\n",
       "      <th>3</th>\n",
       "      <td>12.045791</td>\n",
       "      <td>-9.548955</td>\n",
       "      <td>1.296076</td>\n",
       "      <td>-22.716483</td>\n",
       "      <td>8.323597</td>\n",
       "      <td>-13.074138</td>\n",
       "      <td>21.569312</td>\n",
       "      <td>-7.669294</td>\n",
       "      <td>11.825326</td>\n",
       "      <td>13.761355</td>\n",
       "    </tr>\n",
       "    <tr>\n",
       "      <th>4</th>\n",
       "      <td>14.202325</td>\n",
       "      <td>-8.394040</td>\n",
       "      <td>2.372177</td>\n",
       "      <td>-25.584078</td>\n",
       "      <td>7.590850</td>\n",
       "      <td>-15.094525</td>\n",
       "      <td>23.596017</td>\n",
       "      <td>-9.246835</td>\n",
       "      <td>12.222140</td>\n",
       "      <td>14.994944</td>\n",
       "    </tr>\n",
       "  </tbody>\n",
       "</table>\n",
       "</div>\n",
       "      <button class=\"colab-df-convert\" onclick=\"convertToInteractive('df-72880222-d7d2-48b9-a3db-6994933e2743')\"\n",
       "              title=\"Convert this dataframe to an interactive table.\"\n",
       "              style=\"display:none;\">\n",
       "        \n",
       "  <svg xmlns=\"http://www.w3.org/2000/svg\" height=\"24px\"viewBox=\"0 0 24 24\"\n",
       "       width=\"24px\">\n",
       "    <path d=\"M0 0h24v24H0V0z\" fill=\"none\"/>\n",
       "    <path d=\"M18.56 5.44l.94 2.06.94-2.06 2.06-.94-2.06-.94-.94-2.06-.94 2.06-2.06.94zm-11 1L8.5 8.5l.94-2.06 2.06-.94-2.06-.94L8.5 2.5l-.94 2.06-2.06.94zm10 10l.94 2.06.94-2.06 2.06-.94-2.06-.94-.94-2.06-.94 2.06-2.06.94z\"/><path d=\"M17.41 7.96l-1.37-1.37c-.4-.4-.92-.59-1.43-.59-.52 0-1.04.2-1.43.59L10.3 9.45l-7.72 7.72c-.78.78-.78 2.05 0 2.83L4 21.41c.39.39.9.59 1.41.59.51 0 1.02-.2 1.41-.59l7.78-7.78 2.81-2.81c.8-.78.8-2.07 0-2.86zM5.41 20L4 18.59l7.72-7.72 1.47 1.35L5.41 20z\"/>\n",
       "  </svg>\n",
       "      </button>\n",
       "      \n",
       "  <style>\n",
       "    .colab-df-container {\n",
       "      display:flex;\n",
       "      flex-wrap:wrap;\n",
       "      gap: 12px;\n",
       "    }\n",
       "\n",
       "    .colab-df-convert {\n",
       "      background-color: #E8F0FE;\n",
       "      border: none;\n",
       "      border-radius: 50%;\n",
       "      cursor: pointer;\n",
       "      display: none;\n",
       "      fill: #1967D2;\n",
       "      height: 32px;\n",
       "      padding: 0 0 0 0;\n",
       "      width: 32px;\n",
       "    }\n",
       "\n",
       "    .colab-df-convert:hover {\n",
       "      background-color: #E2EBFA;\n",
       "      box-shadow: 0px 1px 2px rgba(60, 64, 67, 0.3), 0px 1px 3px 1px rgba(60, 64, 67, 0.15);\n",
       "      fill: #174EA6;\n",
       "    }\n",
       "\n",
       "    [theme=dark] .colab-df-convert {\n",
       "      background-color: #3B4455;\n",
       "      fill: #D2E3FC;\n",
       "    }\n",
       "\n",
       "    [theme=dark] .colab-df-convert:hover {\n",
       "      background-color: #434B5C;\n",
       "      box-shadow: 0px 1px 3px 1px rgba(0, 0, 0, 0.15);\n",
       "      filter: drop-shadow(0px 1px 2px rgba(0, 0, 0, 0.3));\n",
       "      fill: #FFFFFF;\n",
       "    }\n",
       "  </style>\n",
       "\n",
       "      <script>\n",
       "        const buttonEl =\n",
       "          document.querySelector('#df-72880222-d7d2-48b9-a3db-6994933e2743 button.colab-df-convert');\n",
       "        buttonEl.style.display =\n",
       "          google.colab.kernel.accessAllowed ? 'block' : 'none';\n",
       "\n",
       "        async function convertToInteractive(key) {\n",
       "          const element = document.querySelector('#df-72880222-d7d2-48b9-a3db-6994933e2743');\n",
       "          const dataTable =\n",
       "            await google.colab.kernel.invokeFunction('convertToInteractive',\n",
       "                                                     [key], {});\n",
       "          if (!dataTable) return;\n",
       "\n",
       "          const docLinkHtml = 'Like what you see? Visit the ' +\n",
       "            '<a target=\"_blank\" href=https://colab.research.google.com/notebooks/data_table.ipynb>data table notebook</a>'\n",
       "            + ' to learn more about interactive tables.';\n",
       "          element.innerHTML = '';\n",
       "          dataTable['output_type'] = 'display_data';\n",
       "          await google.colab.output.renderOutput(dataTable, element);\n",
       "          const docLink = document.createElement('div');\n",
       "          docLink.innerHTML = docLinkHtml;\n",
       "          element.appendChild(docLink);\n",
       "        }\n",
       "      </script>\n",
       "    </div>\n",
       "  </div>\n",
       "  "
      ],
      "text/plain": [
       "           0          1          2          3          4          5  \\\n",
       "0  -7.799165  11.831122  -4.256064 -24.316662  -8.368436  25.795544   \n",
       "1  17.795552 -17.489626  12.875613 -22.412635  11.840251  12.960748   \n",
       "2  16.510434 -21.114121  -7.882831  -0.763302   8.049924 -12.060380   \n",
       "3  12.045791  -9.548955   1.296076 -22.716483   8.323597 -13.074138   \n",
       "4  14.202325  -8.394040   2.372177 -25.584078   7.590850 -15.094525   \n",
       "\n",
       "           6          7          8          9  \n",
       "0  -9.925222  -1.714580  10.407809  21.441056  \n",
       "1  -4.685103  24.731564  -0.092238 -16.287798  \n",
       "2   8.276369   4.991549 -18.357320  -8.517860  \n",
       "3  21.569312  -7.669294  11.825326  13.761355  \n",
       "4  23.596017  -9.246835  12.222140  14.994944  "
      ]
     },
     "execution_count": 96,
     "metadata": {},
     "output_type": "execute_result"
    }
   ],
   "source": [
    "data.head()"
   ]
  },
  {
   "cell_type": "code",
   "execution_count": 106,
   "metadata": {
    "colab": {
     "base_uri": "https://localhost:8080/"
    },
    "id": "asSCuIE4uU-s",
    "outputId": "f8631e0a-6d7a-4fe8-a1ab-ef34c4453228"
   },
   "outputs": [
    {
     "data": {
      "text/plain": [
       "PCA(n_components=2, svd_solver='full')"
      ]
     },
     "execution_count": 106,
     "metadata": {},
     "output_type": "execute_result"
    }
   ],
   "source": [
    "pca.fit(data)"
   ]
  },
  {
   "cell_type": "code",
   "execution_count": 107,
   "metadata": {
    "colab": {
     "base_uri": "https://localhost:8080/"
    },
    "id": "Qya5z_1oulza",
    "outputId": "27d96ae0-5317-4438-8f11-00eb5dc5e7ff"
   },
   "outputs": [
    {
     "data": {
      "text/plain": [
       "array([[ 39.56091195,   7.1556622 ],\n",
       "       [-15.92016466, -28.07361492],\n",
       "       [-34.75550123,   3.18649317],\n",
       "       [ -9.82930249,  30.1155219 ],\n",
       "       [ -9.83892013,  32.70944827],\n",
       "       [ 33.43247399,   8.14124419],\n",
       "       [ 26.48544508, -17.07304617],\n",
       "       [-37.22884765,   2.01439798],\n",
       "       [-18.67866429, -26.92261772],\n",
       "       [ 40.68937574,  11.23757564],\n",
       "       [-34.78042191,   6.02887832],\n",
       "       [-35.74958536,   2.93390812],\n",
       "       [-20.47229784, -27.05367636],\n",
       "       [ 27.36723749, -15.60548132],\n",
       "       [-10.12534385,  30.83215948],\n",
       "       [-10.56591998,  29.60822064],\n",
       "       [ 29.07777817, -14.89799037],\n",
       "       [-38.08481538,   5.9675    ],\n",
       "       [-35.82181939,   5.27146031],\n",
       "       [-19.67316876, -28.39114408],\n",
       "       [ 26.26481265, -13.29003412],\n",
       "       [-36.52833875,   2.43902411],\n",
       "       [ 26.2099534 , -12.80063402],\n",
       "       [-10.79046524,  32.77317027],\n",
       "       [ 40.63439469,   9.24560846],\n",
       "       [ 39.35965223,   9.71962007],\n",
       "       [-10.6293917 ,  27.19745328],\n",
       "       [ 36.49809563,  10.092113  ],\n",
       "       [ 22.73518392, -16.27420466],\n",
       "       [-18.60434332, -24.61998781],\n",
       "       [-20.67637816, -28.57682359],\n",
       "       [-12.66087494,  29.76509176],\n",
       "       [-35.77628731,   6.44652475],\n",
       "       [-17.95475473, -29.43502567],\n",
       "       [-37.01000619,   4.78511449],\n",
       "       [-19.10104301, -29.26839045],\n",
       "       [ 36.79676211,   8.91264934],\n",
       "       [-34.49369963,   3.16972009],\n",
       "       [ 25.34851052, -18.25535079],\n",
       "       [-16.98763632, -30.39305468],\n",
       "       [-19.70008021, -27.77396806],\n",
       "       [ 29.53365671, -16.27041709],\n",
       "       [ -9.59089186,  30.1307611 ],\n",
       "       [-33.88125347,   3.99195849],\n",
       "       [ 26.94796929, -13.3706363 ],\n",
       "       [-13.53083988,  31.40196308],\n",
       "       [ 38.75492031,  11.09949028],\n",
       "       [ -7.98134051,  29.80217189],\n",
       "       [-18.35639036, -28.49489059],\n",
       "       [ 40.0932782 ,   7.92145844],\n",
       "       [ -9.3781563 ,  28.40569941],\n",
       "       [ 27.47576065, -14.75979001],\n",
       "       [ 37.26333014,   9.52060553],\n",
       "       [ 26.45518218, -15.60901317],\n",
       "       [ 38.32528727,   8.10140345],\n",
       "       [ 27.31994409, -17.07597302],\n",
       "       [-10.97684343,  30.4983232 ],\n",
       "       [-36.65907999,   4.49225592],\n",
       "       [-20.35836962, -29.11002986],\n",
       "       [ 40.52132146,   8.28114418]])"
      ]
     },
     "execution_count": 107,
     "metadata": {},
     "output_type": "execute_result"
    }
   ],
   "source": [
    "# new coordinates\n",
    "pca.transform(data)"
   ]
  },
  {
   "cell_type": "code",
   "execution_count": 108,
   "metadata": {
    "colab": {
     "base_uri": "https://localhost:8080/"
    },
    "id": "gKw482n1vB1_",
    "outputId": "d9da1336-007a-454c-b841-7924dc312b57"
   },
   "outputs": [
    {
     "data": {
      "text/plain": [
       "0.7810775364133512"
      ]
     },
     "execution_count": 108,
     "metadata": {},
     "output_type": "execute_result"
    }
   ],
   "source": [
    "sum(pca.explained_variance_ratio_)"
   ]
  },
  {
   "cell_type": "code",
   "execution_count": 109,
   "metadata": {
    "colab": {
     "base_uri": "https://localhost:8080/",
     "height": 282
    },
    "id": "rlMOr3fIxXfM",
    "outputId": "b402286d-0129-4581-955c-f2bb9d66dd5f"
   },
   "outputs": [
    {
     "data": {
      "text/plain": [
       "<matplotlib.collections.PathCollection at 0x7fa331e10ac0>"
      ]
     },
     "execution_count": 109,
     "metadata": {},
     "output_type": "execute_result"
    },
    {
     "data": {
      "image/png": "[encoded data removed]",
      "text/plain": [
       "<Figure size 432x288 with 1 Axes>"
      ]
     },
     "metadata": {
      "needs_background": "light"
     },
     "output_type": "display_data"
    }
   ],
   "source": [
    "plt.scatter(x=pca.transform(data).T[0], y=pca.transform(data).T[1])"
   ]
  },
  {
   "cell_type": "code",
   "execution_count": 83,
   "metadata": {
    "id": "IKvuKZ3YxrvZ"
   },
   "outputs": [],
   "source": [
    "#task 2\n",
    "\n",
    "X_loadings_492 = pd.read_csv(\"sample_data/X_loadings_492.csv\", header=None, sep=\";\").to_numpy()\n",
    "X_reduced_492 = pd.read_csv(\"sample_data/X_reduced_492.csv\", header=None, sep=\";\").to_numpy()"
   ]
  },
  {
   "cell_type": "code",
   "execution_count": 69,
   "metadata": {
    "colab": {
     "base_uri": "https://localhost:8080/"
    },
    "id": "2K-8Uf5QyVM5",
    "outputId": "032b1ceb-6ea5-4c2b-e42c-861047e3e04e"
   },
   "outputs": [
    {
     "data": {
      "text/plain": [
       "(100, 10)"
      ]
     },
     "execution_count": 69,
     "metadata": {},
     "output_type": "execute_result"
    }
   ],
   "source": [
    "X_loadings_492.to_numpy().shape"
   ]
  },
  {
   "cell_type": "code",
   "execution_count": 70,
   "metadata": {
    "colab": {
     "base_uri": "https://localhost:8080/"
    },
    "id": "8HTmMAhZy7lG",
    "outputId": "f9de48a3-bdfb-45f3-9c7f-525e3de282ef"
   },
   "outputs": [
    {
     "data": {
      "text/plain": [
       "(100, 10)"
      ]
     },
     "execution_count": 70,
     "metadata": {},
     "output_type": "execute_result"
    }
   ],
   "source": [
    "X_reduced_492.to_numpy().shape"
   ]
  },
  {
   "cell_type": "code",
   "execution_count": 91,
   "metadata": {
    "id": "NhvYWeD7zbgB"
   },
   "outputs": [],
   "source": [
    "ans = np.abs(X_reduced_492@X_loadings_492.T) + 50"
   ]
  },
  {
   "cell_type": "code",
   "execution_count": 92,
   "metadata": {
    "colab": {
     "base_uri": "https://localhost:8080/",
     "height": 117
    },
    "id": "Jstiwd1s0SVY",
    "outputId": "1298760a-c73e-493b-caab-e7ef7ac2d83b"
   },
   "outputs": [
    {
     "data": {
      "image/png": "[encoded data removed]",
      "text/plain": [
       "<PIL.Image.Image image mode=L size=100x100 at 0x7FA2F708A520>"
      ]
     },
     "metadata": {},
     "output_type": "display_data"
    }
   ],
   "source": [
    "cv2_imshow(ans)"
   ]
  }
 ],
 "metadata": {
  "colab": {
   "provenance": []
  },
  "kernelspec": {
   "display_name": "Python 3 (ipykernel)",
   "language": "python",
   "name": "python3"
  },
  "language_info": {
   "codemirror_mode": {
    "name": "ipython",
    "version": 3
   },
   "file_extension": ".py",
   "mimetype": "text/x-python",
   "name": "python",
   "nbconvert_exporter": "python",
   "pygments_lexer": "ipython3",
   "version": "3.9.13"
  }
 },
 "nbformat": 4,
 "nbformat_minor": 1
}
